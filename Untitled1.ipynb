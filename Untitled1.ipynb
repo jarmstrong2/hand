{
 "cells": [
  {
   "cell_type": "code",
   "execution_count": 1,
   "metadata": {
    "collapsed": false
   },
   "outputs": [
    {
     "data": {
      "text/plain": [
       "true\t\n"
      ]
     },
     "execution_count": 1,
     "metadata": {},
     "output_type": "execute_result"
    }
   ],
   "source": [
    "require 'yHatMat'"
   ]
  },
  {
   "cell_type": "code",
   "execution_count": 2,
   "metadata": {
    "collapsed": false
   },
   "outputs": [
    {
     "data": {
      "text/plain": [
       "{\n",
       "  Copy : table: 0x0ffd4208\n",
       "  ConcatTable : table: 0x1025f500\n",
       "  L1HingeEmbeddingCriterion : table: 0x1027bb98\n",
       "  SpatialAveragePooling : table: 0x102427c8\n",
       "  StochasticGradient : table: 0x1028c2d8\n",
       "  SpatialConvolutionMM : table: 0x10235880\n",
       "  Reshape : table: 0x0ffb4520\n",
       "  SpatialContrastiveNormalization : table: 0x1024fca8\n",
       "  Jacobian : \n",
       "    {\n",
       "      forward : function: 0x1028f8d8\n",
       "      testJacobian : function: 0x1028f6f0\n",
       "      testIO : function: 0x10290230\n",
       "      testAllUpdate : function: 0x10290250\n",
       "      testJacobianParameters : function: 0x102901f0\n",
       "      testJacobianUpdateParameters : function: 0x10290210\n",
       "      forwardUpdate : function: 0x1028f6d0\n",
       "      backward : function: 0x1028f860\n",
       "      backwardUpdate : function: 0x1028f8b8\n",
       "    }\n",
       "  CosineEmbeddingCriterion : table: 0x1027f0c8\n",
       "  SparseLinear : table: 0x10020388\n",
       "  CDivTable : table: 0x1005b1e0\n",
       "  Container : table: 0x0ffd1ed0\n",
       "  MarginRankingCriterion : table: 0x1027fbe8\n",
       "  CAddTable : table: 0x10059a18\n",
       "  TemporalConvolution : table: 0x10244e60\n",
       "  PairwiseDistance : table: 0x10209e98\n"
      ]
     },
     "execution_count": 2,
     "metadata": {},
     "output_type": "execute_result"
    },
    {
     "data": {
      "text/plain": [
       "  MultiMarginCriterion : table: 0x10282418\n",
       "  Concat : table: 0x0fff9118\n",
       "  CrossEntropyCriterion : table: 0x1028a868\n",
       "  SelectTable : table: 0x10265a68\n",
       "  LookupTable : table: 0x10226740\n",
       "  ParallelTable : table: 0x1025c760\n",
       "  test : function: 0x0ffd76a8\n",
       "  HardShrink : table: 0x1021ff08\n",
       "  TanhShrink : table: 0x10219f60\n",
       "  MixtureTable : table: 0x10267780\n",
       "  SpatialLPPooling : table: 0x102406d8\n",
       "  Abs : table: 0x1021b2b0\n",
       "  SpatialFullConvolutionMap : table: 0x102348b0\n",
       "  SparseJacobian : \n",
       "    {\n",
       "      forward : function: 0x102952f0\n",
       "      testJacobian : function: 0x10295330\n",
       "      testIO : function: 0x10294400\n",
       "      testAllUpdate : function: 0x10294420\n",
       "      testJacobianParameters : function: 0x10293510"
      ]
     },
     "execution_count": 2,
     "metadata": {},
     "output_type": "execute_result"
    },
    {
     "data": {
      "text/plain": [
       "\n",
       "      testJacobianUpdateParameters : function: 0x10293530\n",
       "      forwardUpdate : function: 0x10295310\n",
       "      backward : function: 0x102952b0\n",
       "      backwardUpdate : function: 0x102952d0\n",
       "    }\n",
       "  LogSoftMax : table: 0x10212158\n",
       "  SoftMin : table: 0x10215550\n",
       "  MM : table: 0x1028eb50\n",
       "  Min : table: 0x0fff3f50\n",
       "  BCECriterion : table: 0x10288f10\n",
       "  WeightedMSECriterion : table: 0x10286fb0\n",
       "  Exp : table: 0x1020da80\n",
       "  Add : table: 0x10051cb0\n",
       "  Identity : table: 0x10053848\n",
       "  L1Cost : table: 0x10284828\n",
       "  MultiLabelMarginCriterion : table: 0x10283680\n",
       "  YHat : table: 0x102069e8\n",
       "  HingeEmbeddingCriterion : table: 0x1027d5a8\n",
       "  ClassNLLCriterion : table: 0x10277b98\n",
       "  BatchNormalization : table: 0x10024538\n",
       "  DistKLDivCriterion : table: 0x10278db0\n",
       "  FlattenTable : table: 0x1026c200\n",
       "  MultiCriterion : table: 0x10279cc0\n",
       "  PReLU : table: 0x10225108\n",
       "  utils : \n",
       "    {\n",
       "      recursiveType : function: 0x0ffad8d0\n",
       "    }\n",
       "  AddConstant : table: 0x10054aa0\n",
       "  Max : table: 0x10045df0\n",
       "  CMul : table: 0x0ffef200\n",
       "  Replicate : table: 0x0ffe0b90\n",
       "  View : table: 0x0ffbb810\n",
       "  Mean : table: 0x1000bb88\n",
       "  AbsCriterion : table: 0x10275498\n",
       "  Dropout : table: 0x10056d48\n",
       "  MarginCriterion : table: 0x10274290\n",
       "  SoftPlus : table: 0x10216798\n",
       "  MSECriterion : table: 0x10272fb8\n",
       "  HardTanh : table: 0x1020fe88\n",
       "  Criterion : table: 0x10270e98\n",
       "  Transpose : table: 0x0ffa6700\n",
       "  L1Penalty : table: 0x10285b48\n",
       "  SplitTable : table: 0x102624d0\n",
       "  DotProduct : table: 0x1020c938\n",
       "  Sqrt : table: 0x1021ec10\n",
       "  Sequential : table: 0x1000f730\n",
       "  DepthConcat : table: 0x1001ed08\n",
       "  CMulTable : table: 0x1005c4f0\n",
       "  ReLU : table: 0x10223a18\n",
       "  Parallel : table: 0x10037be8\n",
       "  SoftShrink : table: 0x10221130\n",
       "  Square : table: 0x1021d9a8\n",
       "  JoinTable : table: 0x10263f00\n",
       "  SoftMax : table: 0x102141d8\n",
       "  SpatialSubtractiveNormalization : table: 0x1024a198\n",
       "  VolumetricMaxPooling : table: 0x1025a758\n",
       "  VolumetricConvolution : table: 0x10259400\n",
       "  SpatialBatchNormalization : table: 0x10256868\n",
       "  Log : table: 0x1020edf8\n",
       "  SpatialUpSamplingNearest : table: 0x10254338\n",
       "  SpatialDropout : table: 0x100575e8\n",
       "  Padding : table: 0x10021130\n",
       "  Sum : table: 0x0ffd2998\n",
       "  SoftSign : table: 0x10217c28\n",
       "  SpatialDivisiveNormalization : table: 0x1024d650\n",
       "  TemporalMaxPooling : table: 0x10249348\n",
       "  TemporalSubSampling : table: 0x10246f40\n",
       "  SpatialAdaptiveMaxPooling : table: 0x10243f78\n",
       "  Tanh : table: 0x10218bb0\n",
       "  hessian : \n",
       "    {\n",
       "      enable : function: 0x102a0308\n",
       "    }\n",
       "  Linear : table: 0x10001c48\n",
       "  Select : table: 0x10047a30\n",
       "  SpatialMaxPooling : table: 0x1023fa40\n",
       "  SpatialSubSampling : table: 0x1005e8c8\n",
       "  tables : \n",
       "    {\n",
       "      full : function: 0x1023bdf0\n",
       "      oneToOne : function: 0x1023be10\n",
       "      random : function: 0x1023be30\n",
       "    }\n",
       " "
      ]
     },
     "execution_count": 2,
     "metadata": {},
     "output_type": "execute_result"
    },
    {
     "data": {
      "text/plain": [
       " SpatialConvolution : table: 0x0ffa3d00\n",
       "  CriterionTable : table: 0x10269588\n",
       "  SpatialConvolutionMap : table: 0x10238890\n",
       "  CSubTable : table: 0x1005d650\n",
       "  Power : table: 0x1021c7b0\n",
       "  Module : table: 0x0fc7d7c8\n",
       "  WeightedEuclidean : table: 0x10206088\n",
       "  SpatialFullConvolution : table: 0x0ffa4520\n",
       "  CosineDistance : table: 0x1020b808\n",
       "  Euclidean : table: 0x10201ac8\n",
       "  SpatialZeroPadding : table: 0x10250ab8\n",
       "  Mul : table: 0x10025000\n",
       "  Narrow : table: 0x1003a878\n",
       "  Threshold : table: 0x10221f80\n",
       "  LogSigmoid : table: 0x102110e8\n",
       "  Sigmoid : table: 0x10213198\n",
       "  MulConstant : table: 0x0ffb6878\n",
       "}\n"
      ]
     },
     "execution_count": 2,
     "metadata": {},
     "output_type": "execute_result"
    }
   ],
   "source": [
    "require 'nn'"
   ]
  },
  {
   "cell_type": "code",
   "execution_count": 14,
   "metadata": {
    "collapsed": true
   },
   "outputs": [],
   "source": [
    "y = nn.YHat()"
   ]
  },
  {
   "cell_type": "code",
   "execution_count": 15,
   "metadata": {
    "collapsed": true
   },
   "outputs": [],
   "source": [
    "mat = torch.ones(1, 121)"
   ]
  },
  {
   "cell_type": "code",
   "execution_count": 16,
   "metadata": {
    "collapsed": false
   },
   "outputs": [
    {
     "data": {
      "text/plain": [
       "\n"
      ]
     },
     "execution_count": 16,
     "metadata": {},
     "output_type": "execute_result"
    }
   ],
   "source": [
    "y:setmask(mat)"
   ]
  },
  {
   "cell_type": "code",
   "execution_count": 17,
   "metadata": {
    "collapsed": false
   },
   "outputs": [],
   "source": [
    "x = torch.ones(1,3)"
   ]
  },
  {
   "cell_type": "code",
   "execution_count": 18,
   "metadata": {
    "collapsed": false
   },
   "outputs": [
    {
     "data": {
      "text/plain": [
       "\n"
      ]
     },
     "execution_count": 18,
     "metadata": {},
     "output_type": "execute_result"
    }
   ],
   "source": [
    "y:settarget(x)"
   ]
  },
  {
   "cell_type": "code",
   "execution_count": 24,
   "metadata": {
    "collapsed": false
   },
   "outputs": [],
   "source": [
    "i =y:forward(mat)"
   ]
  },
  {
   "cell_type": "code",
   "execution_count": 27,
   "metadata": {
    "collapsed": false
   },
   "outputs": [
    {
     "data": {
      "text/plain": [
       "Columns 1 to 10\n",
       " 0.7311  0.0000  0.0000  0.0000  0.0000  0.0000  0.0000  0.0000  0.0000  0.0000\n",
       "\n",
       "Columns 11 to 20\n",
       " 0.0000  0.0000  0.0000  0.0000  0.0000  0.0000  0.0000  0.0000  0.0000  0.0000\n",
       "\n",
       "Columns 21 to 30\n",
       " 0.0000 -0.0000 -0.0000 -0.0000 -0.0000 -0.0000 -0.0000 -0.0000 -0.0000 -0.0000\n",
       "\n",
       "Columns 31 to 40\n",
       "-0.0000 -0.0000 -0.0000 -0.0000 -0.0000 -0.0000 -0.0000 -0.0000 -0.0000 -0.0000\n",
       "\n",
       "Columns 41 to 50\n",
       "-0.0000 -0.0000 -0.0000 -0.0000 -0.0000 -0.0000 -0.0000 -0.0000 -0.0000 -0.0000\n",
       "\n",
       "Columns 51 to 60\n",
       "-0.0000 -0.0000 -0.0000 -0.0000 -0.0000 -0.0000 -0.0000 -0.0000 -0.0000 -0.0000\n",
       "\n",
       "Columns 61 to 70\n",
       "-0.0000  0.0500  0.0500  0.0500  0.0500  0.0500  0.0500  0.0500  0.0500  0.0500\n",
       "\n",
       "Columns 71 to 80\n",
       " 0.0500  0.0500  0.0500  0.0500  0.0500  0.0500  0.0500  0.0500  0.0500  0.0500\n",
       "\n",
       "Columns 81 to 90\n",
       " 0.0500  0.0500  0.0500  0.0500  0.0500  0.0500  0.0500  0.0500  0.0500  0.0500\n",
       "\n",
       "Columns 91 to 100\n",
       " 0.0500  0.0500  0.0500  0.0500  0.0500  0.0500  0.0500  0.0500  0.0500  0.0500\n",
       "\n",
       "Columns 101 to 110\n",
       " 0.0500 -0.0381 -0.0381 -0.0381 -0.0381 -0.0381 -0.0381 -0.0381 -0.0381 -0.0381\n",
       "\n",
       "Columns 111 to 120\n",
       "-0.0381 -0.0381 -0.0381 -0.0381 -0.0381 -0.0381 -0.0381 -0.0381 -0.0381 -0.0381\n",
       "\n",
       "Columns 121 to 121\n",
       "-0.0381\n",
       "[torch.DoubleTensor of size 1x121]\n",
       "\n"
      ]
     },
     "execution_count": 27,
     "metadata": {},
     "output_type": "execute_result"
    }
   ],
   "source": [
    "y:backward(mat)"
   ]
  },
  {
   "cell_type": "code",
   "execution_count": 15,
   "metadata": {
    "collapsed": false
   },
   "outputs": [
    {
     "data": {
      "text/plain": [
       " 0.6489\n",
       " 0.4299\n",
       " 0.6471\n",
       "[torch.DoubleTensor of size 3x1]\n",
       "\n"
      ]
     },
     "execution_count": 15,
     "metadata": {},
     "output_type": "execute_result"
    }
   ],
   "source": [
    "x = torch.rand(3,1)\n",
    "print(x)"
   ]
  },
  {
   "cell_type": "code",
   "execution_count": 10,
   "metadata": {
    "collapsed": true
   },
   "outputs": [],
   "source": [
    "y = torch.ones(1,1)"
   ]
  },
  {
   "cell_type": "code",
   "execution_count": 12,
   "metadata": {
    "collapsed": false
   },
   "outputs": [
    {
     "data": {
      "text/plain": [
       " 0\n",
       " 0\n",
       " 0\n",
       "[torch.ByteTensor of size 3x1]\n",
       "\n"
      ]
     },
     "execution_count": 12,
     "metadata": {},
     "output_type": "execute_result"
    }
   ],
   "source": [
    "torch.ne(x,y)"
   ]
  },
  {
   "cell_type": "code",
   "execution_count": 16,
   "metadata": {
    "collapsed": false
   },
   "outputs": [
    {
     "data": {
      "text/plain": [
       "-0.4324\n",
       "-0.8442\n",
       "-0.4353\n",
       "[torch.DoubleTensor of size 3x1]\n",
       "\n"
      ]
     },
     "execution_count": 16,
     "metadata": {},
     "output_type": "execute_result"
    }
   ],
   "source": [
    "torch.log(x)"
   ]
  },
  {
   "cell_type": "code",
   "execution_count": 9,
   "metadata": {
    "collapsed": false
   },
   "outputs": [
    {
     "data": {
      "text/plain": [
       "true\t\n"
      ]
     },
     "execution_count": 9,
     "metadata": {},
     "output_type": "execute_result"
    }
   ],
   "source": [
    "require 'mixtureCriterionMat'"
   ]
  },
  {
   "cell_type": "code",
   "execution_count": 10,
   "metadata": {
    "collapsed": false
   },
   "outputs": [
    {
     "data": {
      "text/plain": [
       "{\n",
       "  Copy : table: 0x0ffd4208\n",
       "  ConcatTable : table: 0x1025f500\n",
       "  L1HingeEmbeddingCriterion : table: 0x1027bb98\n",
       "  SpatialAveragePooling : table: 0x102427c8\n",
       "  StochasticGradient : table: 0x1028c2d8\n",
       "  SpatialConvolutionMM : table: 0x10235880\n",
       "  Reshape : table: 0x0ffb4520\n",
       "  SpatialContrastiveNormalization : table: 0x1024fca8\n",
       "  Jacobian : \n",
       "    {\n",
       "      forward : function: 0x1028f8d8\n",
       "      testJacobian : function: 0x1028f6f0\n",
       "      testIO : function: 0x10290230\n",
       "      testAllUpdate : function: 0x10290250\n",
       "      testJacobianParameters : function: 0x102901f0\n",
       "      testJacobianUpdateParameters : function: 0x10290210\n",
       "      forwardUpdate : function: 0x1028f6d0\n",
       "      backward : function: 0x1028f860\n",
       "      backwardUpdate : function: 0x1028f8b8\n",
       "    }\n",
       "  CosineEmbeddingCriterion : table: 0x1027f0c8\n",
       "  SparseLinear : table: 0x10020388\n",
       "  CDivTable : table: 0x1005b1e0\n",
       "  Container : table: 0x0ffd1ed0\n",
       "  MarginRankingCriterion : table: 0x1027fbe8\n",
       "  CAddTable : table: 0x10059a18\n",
       "  TemporalConvolution : table: 0x10244e60\n",
       "  PairwiseDistance : table: 0x10209e98\n",
       "  CSubTable : table: 0x1005d650\n",
       "  MultiMarginCriterion : table: 0x10282418\n",
       "  Concat : table: 0x0fff9118\n",
       "  CrossEntropyCriterion : table: 0x1028a868\n",
       "  SelectTable : table: 0x10265a68\n",
       "  LookupTable : table: 0x10226740\n",
       "  ParallelTable : table: 0x1025c760\n",
       "  test : function: 0x0ffd76a8\n",
       "  HardShrink : table: 0x1021ff08\n",
       "  TanhShrink : table: 0x10219f60\n",
       "  MixtureTable : table: 0x10267780\n",
       "  SpatialLPPooling : table: 0x102406d8\n",
       "  Abs : table: 0x1021b2b0\n",
       "  SpatialFullConvolutionMap : table: 0x102348b0\n",
       "  SparseJacobian : \n",
       "    {\n",
       "      forward : function: 0x102952f0\n",
       "      testJacobian : function: 0x10295330\n",
       "      testIO : function: 0x10294400\n",
       "      testAllUpdate : function: 0x10294420\n",
       "      testJacobianParameters : function: 0x10293510\n",
       "      testJacobianUpdateParameters : function: 0x10293530\n",
       "      forwardUpdate : function: 0x10295310\n",
       "      backward : function: 0x102952b0\n",
       "      backwardUpdate : function: 0x102952d0\n",
       "    }\n",
       "  LogSoftMax : table: 0x10212158\n",
       "  SoftMin : table: 0x10215550\n",
       "  MM : table: 0x1028eb50\n",
       "  Min : table: 0x0fff3f50\n",
       "  BCECriterion : table: 0x10288f10\n",
       "  WeightedMSECriterion : table: 0x10286fb0\n",
       "  Exp : table: 0x1020da80\n",
       "  Add : table: 0x10051cb0\n",
       "  Identity : table: 0x10053848\n",
       "  L1Cost : table: 0x10284828\n",
       "  MultiLabelMarginCriterion : table: 0x10283680\n",
       "  YHat : table: 0x102069e8\n",
       "  HingeEmbeddingCriterion : table: 0x1027d5a8\n",
       "  ClassNLLCriterion : table: 0x10277b98\n",
       "  BatchNormalization : table: 0x10024538\n",
       "  DistKLDivCriterion : table: 0x10278db0\n",
       "  FlattenTable : table: 0x1026c200\n",
       "  MultiCriterion : table: 0x10279cc0\n",
       "  PReLU : table: 0x10225108\n",
       "  utils : \n",
       "    "
      ]
     },
     "execution_count": 10,
     "metadata": {},
     "output_type": "execute_result"
    },
    {
     "data": {
      "text/plain": [
       "{\n",
       "      recursiveType : function: 0x0ffad8d0\n",
       "    }\n",
       "  AddConstant : table: 0x10054aa0\n",
       "  Max : table: 0x10045df0\n",
       "  CMul : table: 0x0ffef200\n",
       "  Replicate : table: 0x0ffe0b90\n",
       "  View : table: 0x0ffbb810\n",
       "  Mean : table: 0x1000bb88\n",
       "  AbsCriterion : table: 0x10275498\n",
       "  Dropout : table: 0x10056d48\n",
       "  MarginCriterion : table: 0x10274290\n",
       "  SoftPlus : table: 0x10216798\n",
       "  MSECriterion : table: 0x10272fb8\n",
       "  HardTanh : table: 0x1020fe88\n",
       "  Criterion : table: 0x10270e98\n",
       "  Transpose : table: 0x0ffa6700\n",
       "  L1Penalty : table: 0x10285b48\n",
       "  SplitTable : table: 0x102624d0\n",
       "  DotProduct : table: 0x1020c938\n",
       "  Sqrt : table: 0x1021ec10\n",
       "  Sequential : table: 0x1000f730\n",
       "  DepthConcat : table: 0x1001ed08\n",
       "  CMulTable : table: 0x1005c4f0\n",
       "  ReLU : table: 0x10223a18\n",
       "  Parallel : table: 0x10037be8\n",
       "  SoftShrink : table: 0x10221130\n",
       "  Square : table: 0x1021d9a8\n",
       "  JoinTable : table: 0x10263f00\n",
       "  SoftMax : table: 0x102141d8\n",
       "  SpatialSubtractiveNormalization : table: 0x1024a198\n",
       "  VolumetricMaxPooling : table: 0x1025a758\n",
       "  VolumetricConvolution : table: 0x10259400\n",
       "  SpatialBatchNormalization : table: 0x10256868\n",
       "  Log : table: 0x1020edf8\n",
       "  SpatialUpSamplingNearest : table: 0x10254338\n",
       "  SpatialDropout : table: 0x100575e8\n",
       "  Padding : table: 0x10021130\n",
       "  Sum : table: 0x0ffd2998\n",
       "  SoftSign : table: 0x10217c28\n",
       "  SpatialDivisiveNormalization : table: 0x1024d650\n",
       "  TemporalMaxPooling : table: 0x10249348\n",
       "  TemporalSubSampling : table: 0x10246f40\n",
       "  SpatialAdaptiveMaxPooling : table: 0x10243f78\n",
       "  Tanh : table: 0x10218bb0\n",
       "  hessian : \n",
       "    {\n",
       "      enable : function: 0x102a0308\n",
       "    }\n",
       "  Linear : table: 0x10001c48\n",
       "  Select : table: 0x10047a30\n",
       "  SpatialMaxPooling : table: 0x1023fa40\n",
       "  SpatialSubSampling : table: 0x1005e8c8\n",
       "  tables : \n",
       "    {\n",
       "      full : function: 0x1023bdf0\n",
       "      oneToOne : function: 0x1023be10\n",
       "      random : function: 0x1023be30\n",
       "    }\n",
       "  SpatialConvolution : table: 0x0ffa3d00\n",
       "  CriterionTable : table: 0x10269588\n",
       "  SpatialConvolutionMap : table: 0x10238890\n",
       "  MixtureCriterion : table: 0x10221790\n",
       "  Power : table: 0x1021c7b0\n",
       "  Module : table: 0x0fc7d7c8\n",
       "  WeightedEuclidean : table: 0x10206088\n",
       "  SpatialFullConvolution : table: 0x0ffa4520\n",
       "  CosineDistance : table: 0x1020b808\n",
       "  Euclidean : table: 0x10201ac8\n",
       "  SpatialZeroPadding : table: 0x10250ab8\n",
       "  Mul : table: 0x10025000\n",
       "  Narrow : table: 0x1003a878\n",
       "  Threshold : table: 0x10221f80\n",
       "  LogSigmoid : table: 0x102110e8\n",
       "  Sigmoid : table: 0x10213198\n",
       "  MulConstant : table: 0x0ffb6878\n",
       "}\n"
      ]
     },
     "execution_count": 10,
     "metadata": {},
     "output_type": "execute_result"
    }
   ],
   "source": [
    "require 'nn'"
   ]
  },
  {
   "cell_type": "code",
   "execution_count": 20,
   "metadata": {
    "collapsed": false
   },
   "outputs": [],
   "source": [
    "a = nn.MixtureCriterion()"
   ]
  },
  {
   "cell_type": "code",
   "execution_count": 21,
   "metadata": {
    "collapsed": false
   },
   "outputs": [
    {
     "data": {
      "text/plain": [
       "\n"
      ]
     },
     "execution_count": 21,
     "metadata": {},
     "output_type": "execute_result"
    }
   ],
   "source": [
    "a:setmask(torch.ones(1, 1))"
   ]
  },
  {
   "cell_type": "code",
   "execution_count": 25,
   "metadata": {
    "collapsed": false
   },
   "outputs": [
    {
     "data": {
      "text/plain": [
       "4.7173579234445\t\n"
      ]
     },
     "execution_count": 25,
     "metadata": {},
     "output_type": "execute_result"
    }
   ],
   "source": [
    "a:forward(i, torch.ones(1,3))"
   ]
  },
  {
   "cell_type": "code",
   "execution_count": 26,
   "metadata": {
    "collapsed": false
   },
   "outputs": [
    {
     "data": {
      "text/plain": [
       "Columns 1 to 10\n",
       " 0.2689  0.0500  0.0500  0.0500  0.0500  0.0500  0.0500  0.0500  0.0500  0.0500\n",
       "\n",
       "Columns 11 to 20\n",
       " 0.0500  0.0500  0.0500  0.0500  0.0500  0.0500  0.0500  0.0500  0.0500  0.0500\n",
       "\n",
       "Columns 21 to 30\n",
       " 0.0500  1.0000  1.0000  1.0000  1.0000  1.0000  1.0000  1.0000  1.0000  1.0000\n",
       "\n",
       "Columns 31 to 40\n",
       " 1.0000  1.0000  1.0000  1.0000  1.0000  1.0000  1.0000  1.0000  1.0000  1.0000\n",
       "\n",
       "Columns 41 to 50\n",
       " 1.0000  1.0000  1.0000  1.0000  1.0000  1.0000  1.0000  1.0000  1.0000  1.0000\n",
       "\n",
       "Columns 51 to 60\n",
       " 1.0000  1.0000  1.0000  1.0000  1.0000  1.0000  1.0000  1.0000  1.0000  1.0000\n",
       "\n",
       "Columns 61 to 70\n",
       " 1.0000  2.7183  2.7183  2.7183  2.7183  2.7183  2.7183  2.7183  2.7183  2.7183\n",
       "\n",
       "Columns 71 to 80\n",
       " 2.7183  2.7183  2.7183  2.7183  2.7183  2.7183  2.7183  2.7183  2.7183  2.7183\n",
       "\n",
       "Columns 81 to 90\n",
       " 2.7183  2.7183  2.7183  2.7183  2.7183  2.7183  2.7183  2.7183  2.7183  2.7183\n",
       "\n",
       "Columns 91 to 100\n",
       " 2.7183  2.7183  2.7183  2.7183  2.7183  2.7183  2.7183  2.7183  2.7183  2.7183\n",
       "\n",
       "Columns 101 to 110\n",
       " 2.7183  0.7616  0.7616  0.7616  0.7616  0.7616  0.7616  0.7616  0.7616  0.7616\n",
       "\n",
       "Columns 111 to 120\n",
       " 0.7616  0.7616  0.7616  0.7616  0.7616  0.7616  0.7616  0.7616  0.7616  0.7616\n",
       "\n",
       "Columns 121 to 121\n",
       " 0.7616\n",
       "[torch.DoubleTensor of size 1x121]\n",
       "\n"
      ]
     },
     "execution_count": 26,
     "metadata": {},
     "output_type": "execute_result"
    }
   ],
   "source": [
    "i"
   ]
  },
  {
   "cell_type": "code",
   "execution_count": null,
   "metadata": {
    "collapsed": true
   },
   "outputs": [],
   "source": []
  }
 ],
 "metadata": {
  "kernelspec": {
   "display_name": "iTorch",
   "language": "lua",
   "name": "itorch"
  },
  "language_info": {
   "name": "lua",
   "version": "20100"
  }
 },
 "nbformat": 4,
 "nbformat_minor": 0
}
